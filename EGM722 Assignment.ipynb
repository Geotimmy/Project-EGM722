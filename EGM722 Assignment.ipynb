{
 "cells": [
  {
   "cell_type": "code",
   "execution_count": null,
   "id": "gothic-silence",
   "metadata": {},
   "outputs": [],
   "source": [
    "\"\"\" This section loads modules and data for the whole guide\"\"\"\n",
    "# Import dependencies required to run this code.\n",
    "%matplotlib notebook\n",
    "import matplotlib.pyplot as plt\n",
    "from cartopy.feature import ShapelyFeature\n",
    "import cartopy.crs as ccrs\n",
    "import matplotlib.patches as mpatches\n",
    "import matplotlib.lines as mlines\n",
    "import pandas as pd\n",
    "import geopandas as gpd\n",
    "from shapely.geometry import Point\n",
    "from mpl_toolkits.axes_grid1 import make_axes_locatable\n",
    "plt.ion() # enables continous flow"
   ]
  },
  {
   "cell_type": "code",
   "execution_count": null,
   "id": "1e6aa507",
   "metadata": {},
   "outputs": [],
   "source": [
    "# Load data sets for Iceland. Change the CRS to 32626 with 'to_crs'\n",
    "roads = gpd.read_file('Iceland/roads.shp').to_crs(32626)\n",
    "rivers = gpd.read_file('Iceland/waterways.shp').to_crs(32626)\n",
    "points = gpd.read_file('Iceland/points.shp').to_crs(32626)\n",
    "counties = gpd.read_file ('Iceland/ISL_adm1.shp').to_crs(32626)\n",
    "population = gpd.read_file('Iceland/population.shp').to_crs(32626)\n",
    "outline = gpd.read_file('Iceland/ISL_adm0.shp').to_crs(32626)"
   ]
  },
  {
   "cell_type": "code",
   "execution_count": null,
   "id": "cleared-tuition",
   "metadata": {},
   "outputs": [],
   "source": [
    "# Set figure outline and Universal Transector Mecrator zone and projections\n",
    "myFig = plt.figure(figsize=(10,8))\n",
    "\n",
    "myCRS = ccrs.UTM(26)  \n",
    "\n",
    "ax = plt.axes(projection=ccrs.UTM(26))\n",
    "\n",
    "myFig # Shows the data in a figure"
   ]
  },
  {
   "cell_type": "code",
   "execution_count": null,
   "id": "f4eb479f",
   "metadata": {},
   "outputs": [],
   "source": [
    "# Using mtplotlib create a legend of the features we put in the map\n",
    "def generate_handles(labels, colors, edge='k', alpha=1):\n",
    "    lc = len(colors)  \n",
    "    handles = []\n",
    "    for i in range(len(labels)):\n",
    "        handles.append(mpatches.Rectangle((0, 0), 1, 1, facecolor=colors[i % lc], edgecolor=edge, alpha=alpha))\n",
    "    return handles"
   ]
  },
  {
   "cell_type": "code",
   "execution_count": null,
   "id": "brazilian-yorkshire",
   "metadata": {},
   "outputs": [],
   "source": [
    "#This sets the outline geometry of the Counties in Iceland 'outline_feature'\n",
    "outline_feature = ShapelyFeature(outline['geometry'], myCRS, edgecolor='k', facecolor='w')\n",
    "xmin, ymin, xmax, ymax = outline.total_bounds\n",
    "ax.add_feature(outline_feature)\n",
    "\n",
    "ax.set_extent([xmin, xmax, ymin, ymax], crs=myCRS) # Set the extent of the axes on the map\n",
    "\n",
    "myFig"
   ]
  },
  {
   "cell_type": "code",
   "execution_count": null,
   "id": "chinese-planner",
   "metadata": {},
   "outputs": [],
   "source": [
    "# This investigates the number of unique county values in the dataset (.unique())\n",
    "num_counties = len(counties.NAME_1.unique())\n",
    "print('Number of unique features: {}'.format(num_counties))"
   ]
  },
  {
   "cell_type": "code",
   "execution_count": null,
   "id": "senior-martial",
   "metadata": {},
   "outputs": [],
   "source": [
    "# This summerises the dataframe so we an see the Unique county names\n",
    "df = pd.read_csv('Iceland\\ISL_adm1.csv')\n",
    "df.head()\n",
    "df"
   ]
  },
  {
   "cell_type": "code",
   "execution_count": null,
   "id": "unknown-baker",
   "metadata": {},
   "outputs": [],
   "source": [
    "# Colours and boundaries are added to the map by name and location \n",
    "county_colors = ['g','mediumseagreen','mediumaquamarine','mediumturquoise','slateblue','c','maroon','darkolivegreen']\n",
    "\n",
    "county_names = list(counties.NAME_1.unique())\n",
    "county_names.sort()\n",
    "\n",
    "for i, name in enumerate(county_names):\n",
    "    feat = ShapelyFeature(counties['geometry'][counties['NAME_1'] == name], myCRS, \n",
    "                          edgecolor='k',\n",
    "                          facecolor=county_colors[i],\n",
    "                          linewidth=1,\n",
    "                          alpha=0.25)\n",
    "    ax.add_feature(feat)\n",
    "    \n",
    "myFig\n"
   ]
  },
  {
   "cell_type": "code",
   "execution_count": null,
   "id": "indirect-silence",
   "metadata": {},
   "outputs": [],
   "source": [
    "# Features are added using Shapely for rivers and roads. Including line colour and width.\n",
    "river_feat = ShapelyFeature(rivers['geometry'], myCRS,\n",
    "                            edgecolor='green',\n",
    "                            linewidth=0.2)\n",
    "ax.add_feature(river_feat)\n",
    "roads_feat= ShapelyFeature(roads['geometry'], myCRS,\n",
    "                            edgecolor='red',\n",
    "                             linewidth=0.2)\n",
    "\n",
    "ax.add_feature(roads_feat)\n",
    "\n",
    "myFig"
   ]
  },
  {
   "cell_type": "code",
   "execution_count": null,
   "id": "passive-defensive",
   "metadata": {},
   "outputs": [],
   "source": [
    "# Generate a list of handles for the county data sets\n",
    "county_handles = generate_handles(counties.NAME_1.unique(), county_colors, alpha=0.25)\n",
    "\n",
    "river_handle = [mlines.Line2D([], [], color='royalblue')]\n",
    "\n",
    "roads_handle = [mlines.Line2D([],[], color='red')]\n",
    "\n",
    "# Update the county name for title capitilisation\n",
    "nice_names = [name.title() for name in county_names]\n",
    "\n",
    "# Make a legend listing the feautures, county names, rivers and roads'ax.legend()'\n",
    "handles = county_handles + river_handle + roads_handle\n",
    "\n",
    "labels = nice_names + ['Rivers', 'Roads']\n",
    "\n",
    "leg = ax.legend(handles, labels, title='Legend', title_fontsize=10, \n",
    "                 fontsize=8, loc='upper left', frameon=True, framealpha=1)\n",
    "# Add a map title\n",
    "ax.set(title='Icelands Roads and Municipalities')\n",
    "\n",
    "myFig"
   ]
  },
  {
   "cell_type": "code",
   "execution_count": null,
   "id": "verified-institution",
   "metadata": {},
   "outputs": [],
   "source": [
    "# Add gridlines to the map \n",
    "gridlines = ax.gridlines(draw_labels=True,\n",
    "                         xlocs=[-26,-24,-22,-20,-18,-16,-14,-12], \n",
    "                         ylocs=[66,65,64,63,62,61])\n",
    "gridlines.left_labels = False # turn off the left-side labels\n",
    "gridlines.bottom_labels = False # turn off the bottom labels\n",
    "ax.set_extent([xmin, xmax, ymin, ymax], crs=myCRS)\n",
    "\n",
    "myFig"
   ]
  },
  {
   "cell_type": "code",
   "execution_count": null,
   "id": "ab33aea1",
   "metadata": {},
   "outputs": [],
   "source": [
    "myFig.savefig('Iceland_counties.png', dpi=300) # Save map"
   ]
  },
  {
   "cell_type": "markdown",
   "id": "a269b8b3",
   "metadata": {},
   "source": [
    "---------------------------------------------------- Section 2 -------------------------------------------------------------"
   ]
  },
  {
   "cell_type": "code",
   "execution_count": null,
   "id": "aggregate-reach",
   "metadata": {},
   "outputs": [],
   "source": [
    "\"\"\"This section shows how to do a spatial join using a LineString and clip data sets together\"\"\"\n",
    "# Load data into a GeoPandasDataframe. In this case we are looking at the 'waterways' in Iceland\n",
    "df = gpd.read_file('Iceland\\waterways.shp').to_crs(32626)\n",
    "df.head()\n",
    "df"
   ]
  },
  {
   "cell_type": "code",
   "execution_count": null,
   "id": "elect-dylan",
   "metadata": {},
   "outputs": [],
   "source": [
    "# Load the counties data set\n",
    "counties = gpd.read_file ('Iceland/ISL_adm1.shp').to_crs(32626)"
   ]
  },
  {
   "cell_type": "code",
   "execution_count": null,
   "id": "laughing-tourism",
   "metadata": {},
   "outputs": [],
   "source": [
    "# Check that both datatsets are going to work in a join with the CRS (they both need to be the same)\n",
    "rivers.crs\n",
    "counties.crs"
   ]
  },
  {
   "cell_type": "code",
   "execution_count": null,
   "id": "official-royalty",
   "metadata": {},
   "outputs": [],
   "source": [
    "# For large data sets you can write a summery like this\n",
    "rivers[rivers['type'] == 'river']"
   ]
  },
  {
   "cell_type": "code",
   "execution_count": null,
   "id": "looking-timeline",
   "metadata": {},
   "outputs": [],
   "source": [
    "# Here we look at the length of the rivers using the 'LineString' geometry\n",
    "for i, row in rivers.iterrows(): \n",
    "    rivers.loc[i, 'Length'] = row['geometry'].length \n",
    "    \n",
    "print(rivers.head()) "
   ]
  },
  {
   "cell_type": "code",
   "execution_count": null,
   "id": "eastern-capacity",
   "metadata": {},
   "outputs": [],
   "source": [
    "# Here we calculate the total length of the features using '.sum()'\n",
    "sum_rivers = rivers['Length'].sum()\n",
    "\n",
    "sum_mainrivers = rivers[rivers['type'] == 'river']['Length'].sum()\n",
    "\n",
    "print('{:.2f} total m of waterways'.format(sum_rivers))\n",
    "print('{:.2f} total m of rivers'.format(sum_mainrivers))"
   ]
  },
  {
   "cell_type": "code",
   "execution_count": null,
   "id": "classified-bread",
   "metadata": {},
   "outputs": [],
   "source": [
    "# 'groupby' allows us to join collums in a data set for analysis or calculations\n",
    "rivers.groupby(['type'])['Length'].sum() / 1000 "
   ]
  },
  {
   "cell_type": "code",
   "execution_count": null,
   "id": "numerous-guard",
   "metadata": {},
   "outputs": [],
   "source": [
    "# 's.join' is a fucntion that can joing multiple datasets\n",
    "join = gpd.sjoin(counties, rivers, how='inner', lsuffix='left', rsuffix='right')\n",
    "join # show the joined table"
   ]
  },
  {
   "cell_type": "code",
   "execution_count": null,
   "id": "dried-injury",
   "metadata": {},
   "outputs": [],
   "source": [
    "# Here we caculate the total length of rivers by county.\n",
    "join_total = join['Length'].sum()\n",
    "print(join.groupby(['NAME_1', 'type'])['Length'].sum() / 1000) \n",
    "\n",
    "print(sum_rivers)\n",
    "print(join_total)"
   ]
  },
  {
   "cell_type": "code",
   "execution_count": null,
   "id": "impossible-testimony",
   "metadata": {},
   "outputs": [],
   "source": [
    "# To clip datasets together we use 'gpd.clip'\n",
    "clipped = [] \n",
    "for county in counties['NAME_1'].unique():\n",
    "    tmp_clip = gpd.clip(rivers, counties[counties['NAME_1'] == county]) \n",
    "    for i, row in tmp_clip.iterrows():\n",
    "        tmp_clip.loc[i, 'type'] = row['geometry'].length \n",
    "        tmp_clip.loc[i, 'NAME_1'] = county \n",
    "    clipped.append(tmp_clip) \n",
    "\n",
    "\n",
    "clipped_gdf = gpd.GeoDataFrame(pd.concat(clipped))\n",
    "clip_total = clipped_gdf['Length'].sum()\n",
    "\n",
    "print(clip_total)\n",
    "print (clipped_gdf)"
   ]
  },
  {
   "cell_type": "code",
   "execution_count": null,
   "id": "5c8fa82b",
   "metadata": {},
   "outputs": [],
   "source": [
    "# Export clipped data to the data folder as a csv file\n",
    "clipped_gdf.to_csv(r'Iceland\\Clipped.csv')"
   ]
  },
  {
   "cell_type": "markdown",
   "id": "485a8c10",
   "metadata": {},
   "source": [
    "-----------------------------------------------  Section 3 ----------------------------------------------- "
   ]
  },
  {
   "cell_type": "code",
   "execution_count": null,
   "id": "gothic-apparel",
   "metadata": {},
   "outputs": [],
   "source": [
    "'''This section shows how to make a population chlopopeth map'''\n",
    "# First check the CRS of the counties data set\n",
    "counties.crs"
   ]
  },
  {
   "cell_type": "code",
   "execution_count": null,
   "id": "french-mauritius",
   "metadata": {
    "scrolled": true
   },
   "outputs": [],
   "source": [
    "# Create figure parameters and set CRS and projection\n",
    "plt.figure(1)\n",
    "\n",
    "myFig2 = plt.figure(figsize=(9, 9)) \n",
    "\n",
    "myCRS = ccrs.UTM(26)  \n",
    "\n",
    "ax = plt.axes(projection=ccrs.UTM(26)) "
   ]
  },
  {
   "cell_type": "code",
   "execution_count": null,
   "id": "comparable-spokesman",
   "metadata": {},
   "outputs": [],
   "source": [
    "# Insert a colour bar to the right side of the map\n",
    "divider = make_axes_locatable(ax)\n",
    "cax = divider.append_axes(\"right\", size=\"5%\", pad=0.1, axes_class=plt.Axes)"
   ]
  },
  {
   "cell_type": "code",
   "execution_count": null,
   "id": "extraordinary-terry",
   "metadata": {},
   "outputs": [],
   "source": [
    "# View the population data set\n",
    "population = gpd.read_file('Iceland/population.shp')\n",
    "print(population)"
   ]
  },
  {
   "cell_type": "code",
   "execution_count": null,
   "id": "armed-collection",
   "metadata": {},
   "outputs": [],
   "source": [
    "# Plot population data onto the axis\n",
    "population_plot=population.plot(column='Population', cmap='viridis', linewidth=0.8, ax=ax, edgecolor='r')\n",
    "\n",
    "population_plot = population.plot(column='Population', ax=ax, vmin=300, vmax=300000, cmap='viridis',\n",
    "                      legend=True, cax=cax, legend_kwds={'label': 'Resident Population'})\n",
    "\n",
    "population_outlines = ShapelyFeature(population['geometry'], myCRS, edgecolor='r', facecolor='none')\n",
    "\n",
    "# Add an outline to the population feature on the map\n",
    "ax.add_feature(population_outlines)\n",
    "\n",
    "population_handles = generate_handles([''], ['none'], edge='r')\n",
    "\n",
    "# Apply title and county legend\n",
    "ax.set(title='Icelands Resident population')\n",
    "\n",
    "ax.legend(population_handles, ['County Boundaries'], fontsize=12, loc='lower center', framealpha=1)\n",
    "\n",
    "myFig2"
   ]
  },
  {
   "cell_type": "code",
   "execution_count": null,
   "id": "sublime-bunny",
   "metadata": {},
   "outputs": [],
   "source": [
    "myFig2.savefig('Iceland_population.png',dpi=300)"
   ]
  }
 ],
 "metadata": {
  "celltoolbar": "Raw Cell Format",
  "kernelspec": {
   "display_name": "Python 3",
   "language": "python",
   "name": "python3"
  },
  "language_info": {
   "codemirror_mode": {
    "name": "ipython",
    "version": 3
   },
   "file_extension": ".py",
   "mimetype": "text/x-python",
   "name": "python",
   "nbconvert_exporter": "python",
   "pygments_lexer": "ipython3",
   "version": "3.8.10"
  }
 },
 "nbformat": 4,
 "nbformat_minor": 5
}
